{
  "nbformat": 4,
  "nbformat_minor": 0,
  "metadata": {
    "colab": {
      "provenance": [],
      "include_colab_link": true
    },
    "kernelspec": {
      "name": "python3",
      "display_name": "Python 3"
    },
    "language_info": {
      "name": "python"
    }
  },
  "cells": [
    {
      "cell_type": "markdown",
      "metadata": {
        "id": "view-in-github",
        "colab_type": "text"
      },
      "source": [
        "<a href=\"https://colab.research.google.com/github/favourphilic/EverythingHamoye/blob/main/Stage_C_Quizz.ipynb\" target=\"_parent\"><img src=\"https://colab.research.google.com/assets/colab-badge.svg\" alt=\"Open In Colab\"/></a>"
      ]
    },
    {
      "cell_type": "code",
      "execution_count": 29,
      "metadata": {
        "id": "bPA1nHDBINzI"
      },
      "outputs": [],
      "source": [
        "import pandas as pd\n",
        "import numpy as np\n",
        "import matplotlib.pyplot as plt\n",
        "import seaborn as sns\n",
        "%matplotlib inline"
      ]
    },
    {
      "cell_type": "code",
      "source": [
        "df = pd.read_csv('/content/drive/MyDrive/HamoyeEverything/Data_for_UCI_named.csv')\n",
        "print(df.shape)\n",
        "df.head()"
      ],
      "metadata": {
        "colab": {
          "base_uri": "https://localhost:8080/",
          "height": 225
        },
        "id": "spG-tiz8IdY7",
        "outputId": "f6a57003-8caf-4e14-e0fd-36673c611bb0"
      },
      "execution_count": 30,
      "outputs": [
        {
          "output_type": "stream",
          "name": "stdout",
          "text": [
            "(10000, 14)\n"
          ]
        },
        {
          "output_type": "execute_result",
          "data": {
            "text/plain": [
              "       tau1      tau2      tau3      tau4        p1        p2        p3  \\\n",
              "0  2.959060  3.079885  8.381025  9.780754  3.763085 -0.782604 -1.257395   \n",
              "1  9.304097  4.902524  3.047541  1.369357  5.067812 -1.940058 -1.872742   \n",
              "2  8.971707  8.848428  3.046479  1.214518  3.405158 -1.207456 -1.277210   \n",
              "3  0.716415  7.669600  4.486641  2.340563  3.963791 -1.027473 -1.938944   \n",
              "4  3.134112  7.608772  4.943759  9.857573  3.525811 -1.125531 -1.845975   \n",
              "\n",
              "         p4        g1        g2        g3        g4      stab     stabf  \n",
              "0 -1.723086  0.650456  0.859578  0.887445  0.958034  0.055347  unstable  \n",
              "1 -1.255012  0.413441  0.862414  0.562139  0.781760 -0.005957    stable  \n",
              "2 -0.920492  0.163041  0.766689  0.839444  0.109853  0.003471  unstable  \n",
              "3 -0.997374  0.446209  0.976744  0.929381  0.362718  0.028871  unstable  \n",
              "4 -0.554305  0.797110  0.455450  0.656947  0.820923  0.049860  unstable  "
            ],
            "text/html": [
              "\n",
              "  <div id=\"df-50289a1d-e2c6-46a7-93ef-b3485677f8de\">\n",
              "    <div class=\"colab-df-container\">\n",
              "      <div>\n",
              "<style scoped>\n",
              "    .dataframe tbody tr th:only-of-type {\n",
              "        vertical-align: middle;\n",
              "    }\n",
              "\n",
              "    .dataframe tbody tr th {\n",
              "        vertical-align: top;\n",
              "    }\n",
              "\n",
              "    .dataframe thead th {\n",
              "        text-align: right;\n",
              "    }\n",
              "</style>\n",
              "<table border=\"1\" class=\"dataframe\">\n",
              "  <thead>\n",
              "    <tr style=\"text-align: right;\">\n",
              "      <th></th>\n",
              "      <th>tau1</th>\n",
              "      <th>tau2</th>\n",
              "      <th>tau3</th>\n",
              "      <th>tau4</th>\n",
              "      <th>p1</th>\n",
              "      <th>p2</th>\n",
              "      <th>p3</th>\n",
              "      <th>p4</th>\n",
              "      <th>g1</th>\n",
              "      <th>g2</th>\n",
              "      <th>g3</th>\n",
              "      <th>g4</th>\n",
              "      <th>stab</th>\n",
              "      <th>stabf</th>\n",
              "    </tr>\n",
              "  </thead>\n",
              "  <tbody>\n",
              "    <tr>\n",
              "      <th>0</th>\n",
              "      <td>2.959060</td>\n",
              "      <td>3.079885</td>\n",
              "      <td>8.381025</td>\n",
              "      <td>9.780754</td>\n",
              "      <td>3.763085</td>\n",
              "      <td>-0.782604</td>\n",
              "      <td>-1.257395</td>\n",
              "      <td>-1.723086</td>\n",
              "      <td>0.650456</td>\n",
              "      <td>0.859578</td>\n",
              "      <td>0.887445</td>\n",
              "      <td>0.958034</td>\n",
              "      <td>0.055347</td>\n",
              "      <td>unstable</td>\n",
              "    </tr>\n",
              "    <tr>\n",
              "      <th>1</th>\n",
              "      <td>9.304097</td>\n",
              "      <td>4.902524</td>\n",
              "      <td>3.047541</td>\n",
              "      <td>1.369357</td>\n",
              "      <td>5.067812</td>\n",
              "      <td>-1.940058</td>\n",
              "      <td>-1.872742</td>\n",
              "      <td>-1.255012</td>\n",
              "      <td>0.413441</td>\n",
              "      <td>0.862414</td>\n",
              "      <td>0.562139</td>\n",
              "      <td>0.781760</td>\n",
              "      <td>-0.005957</td>\n",
              "      <td>stable</td>\n",
              "    </tr>\n",
              "    <tr>\n",
              "      <th>2</th>\n",
              "      <td>8.971707</td>\n",
              "      <td>8.848428</td>\n",
              "      <td>3.046479</td>\n",
              "      <td>1.214518</td>\n",
              "      <td>3.405158</td>\n",
              "      <td>-1.207456</td>\n",
              "      <td>-1.277210</td>\n",
              "      <td>-0.920492</td>\n",
              "      <td>0.163041</td>\n",
              "      <td>0.766689</td>\n",
              "      <td>0.839444</td>\n",
              "      <td>0.109853</td>\n",
              "      <td>0.003471</td>\n",
              "      <td>unstable</td>\n",
              "    </tr>\n",
              "    <tr>\n",
              "      <th>3</th>\n",
              "      <td>0.716415</td>\n",
              "      <td>7.669600</td>\n",
              "      <td>4.486641</td>\n",
              "      <td>2.340563</td>\n",
              "      <td>3.963791</td>\n",
              "      <td>-1.027473</td>\n",
              "      <td>-1.938944</td>\n",
              "      <td>-0.997374</td>\n",
              "      <td>0.446209</td>\n",
              "      <td>0.976744</td>\n",
              "      <td>0.929381</td>\n",
              "      <td>0.362718</td>\n",
              "      <td>0.028871</td>\n",
              "      <td>unstable</td>\n",
              "    </tr>\n",
              "    <tr>\n",
              "      <th>4</th>\n",
              "      <td>3.134112</td>\n",
              "      <td>7.608772</td>\n",
              "      <td>4.943759</td>\n",
              "      <td>9.857573</td>\n",
              "      <td>3.525811</td>\n",
              "      <td>-1.125531</td>\n",
              "      <td>-1.845975</td>\n",
              "      <td>-0.554305</td>\n",
              "      <td>0.797110</td>\n",
              "      <td>0.455450</td>\n",
              "      <td>0.656947</td>\n",
              "      <td>0.820923</td>\n",
              "      <td>0.049860</td>\n",
              "      <td>unstable</td>\n",
              "    </tr>\n",
              "  </tbody>\n",
              "</table>\n",
              "</div>\n",
              "      <button class=\"colab-df-convert\" onclick=\"convertToInteractive('df-50289a1d-e2c6-46a7-93ef-b3485677f8de')\"\n",
              "              title=\"Convert this dataframe to an interactive table.\"\n",
              "              style=\"display:none;\">\n",
              "        \n",
              "  <svg xmlns=\"http://www.w3.org/2000/svg\" height=\"24px\"viewBox=\"0 0 24 24\"\n",
              "       width=\"24px\">\n",
              "    <path d=\"M0 0h24v24H0V0z\" fill=\"none\"/>\n",
              "    <path d=\"M18.56 5.44l.94 2.06.94-2.06 2.06-.94-2.06-.94-.94-2.06-.94 2.06-2.06.94zm-11 1L8.5 8.5l.94-2.06 2.06-.94-2.06-.94L8.5 2.5l-.94 2.06-2.06.94zm10 10l.94 2.06.94-2.06 2.06-.94-2.06-.94-.94-2.06-.94 2.06-2.06.94z\"/><path d=\"M17.41 7.96l-1.37-1.37c-.4-.4-.92-.59-1.43-.59-.52 0-1.04.2-1.43.59L10.3 9.45l-7.72 7.72c-.78.78-.78 2.05 0 2.83L4 21.41c.39.39.9.59 1.41.59.51 0 1.02-.2 1.41-.59l7.78-7.78 2.81-2.81c.8-.78.8-2.07 0-2.86zM5.41 20L4 18.59l7.72-7.72 1.47 1.35L5.41 20z\"/>\n",
              "  </svg>\n",
              "      </button>\n",
              "      \n",
              "  <style>\n",
              "    .colab-df-container {\n",
              "      display:flex;\n",
              "      flex-wrap:wrap;\n",
              "      gap: 12px;\n",
              "    }\n",
              "\n",
              "    .colab-df-convert {\n",
              "      background-color: #E8F0FE;\n",
              "      border: none;\n",
              "      border-radius: 50%;\n",
              "      cursor: pointer;\n",
              "      display: none;\n",
              "      fill: #1967D2;\n",
              "      height: 32px;\n",
              "      padding: 0 0 0 0;\n",
              "      width: 32px;\n",
              "    }\n",
              "\n",
              "    .colab-df-convert:hover {\n",
              "      background-color: #E2EBFA;\n",
              "      box-shadow: 0px 1px 2px rgba(60, 64, 67, 0.3), 0px 1px 3px 1px rgba(60, 64, 67, 0.15);\n",
              "      fill: #174EA6;\n",
              "    }\n",
              "\n",
              "    [theme=dark] .colab-df-convert {\n",
              "      background-color: #3B4455;\n",
              "      fill: #D2E3FC;\n",
              "    }\n",
              "\n",
              "    [theme=dark] .colab-df-convert:hover {\n",
              "      background-color: #434B5C;\n",
              "      box-shadow: 0px 1px 3px 1px rgba(0, 0, 0, 0.15);\n",
              "      filter: drop-shadow(0px 1px 2px rgba(0, 0, 0, 0.3));\n",
              "      fill: #FFFFFF;\n",
              "    }\n",
              "  </style>\n",
              "\n",
              "      <script>\n",
              "        const buttonEl =\n",
              "          document.querySelector('#df-50289a1d-e2c6-46a7-93ef-b3485677f8de button.colab-df-convert');\n",
              "        buttonEl.style.display =\n",
              "          google.colab.kernel.accessAllowed ? 'block' : 'none';\n",
              "\n",
              "        async function convertToInteractive(key) {\n",
              "          const element = document.querySelector('#df-50289a1d-e2c6-46a7-93ef-b3485677f8de');\n",
              "          const dataTable =\n",
              "            await google.colab.kernel.invokeFunction('convertToInteractive',\n",
              "                                                     [key], {});\n",
              "          if (!dataTable) return;\n",
              "\n",
              "          const docLinkHtml = 'Like what you see? Visit the ' +\n",
              "            '<a target=\"_blank\" href=https://colab.research.google.com/notebooks/data_table.ipynb>data table notebook</a>'\n",
              "            + ' to learn more about interactive tables.';\n",
              "          element.innerHTML = '';\n",
              "          dataTable['output_type'] = 'display_data';\n",
              "          await google.colab.output.renderOutput(dataTable, element);\n",
              "          const docLink = document.createElement('div');\n",
              "          docLink.innerHTML = docLinkHtml;\n",
              "          element.appendChild(docLink);\n",
              "        }\n",
              "      </script>\n",
              "    </div>\n",
              "  </div>\n",
              "  "
            ]
          },
          "metadata": {},
          "execution_count": 30
        }
      ]
    },
    {
      "cell_type": "code",
      "source": [
        "from collections import Counter"
      ],
      "metadata": {
        "id": "hLCK2QBqIssi"
      },
      "execution_count": 31,
      "outputs": []
    },
    {
      "cell_type": "code",
      "source": [
        "Counter(df.stabf)"
      ],
      "metadata": {
        "colab": {
          "base_uri": "https://localhost:8080/"
        },
        "id": "_GNZcPEBIzxi",
        "outputId": "99c21dd4-2282-4dd7-9e91-bf202d4b1540"
      },
      "execution_count": 32,
      "outputs": [
        {
          "output_type": "execute_result",
          "data": {
            "text/plain": [
              "Counter({'unstable': 6380, 'stable': 3620})"
            ]
          },
          "metadata": {},
          "execution_count": 32
        }
      ]
    },
    {
      "cell_type": "code",
      "source": [
        "sns.countplot(x=df.stabf)"
      ],
      "metadata": {
        "colab": {
          "base_uri": "https://localhost:8080/",
          "height": 297
        },
        "id": "j1ZUuZHpI6nK",
        "outputId": "9af143b6-c00a-40a6-97e8-e3fe12e9a419"
      },
      "execution_count": 33,
      "outputs": [
        {
          "output_type": "execute_result",
          "data": {
            "text/plain": [
              "<matplotlib.axes._subplots.AxesSubplot at 0x7fb4adf751c0>"
            ]
          },
          "metadata": {},
          "execution_count": 33
        },
        {
          "output_type": "display_data",
          "data": {
            "text/plain": [
              "<Figure size 432x288 with 1 Axes>"
            ],
            "image/png": "[encoded data removed]"
          },
          "metadata": {
            "needs_background": "light"
          }
        }
      ]
    },
    {
      "cell_type": "code",
      "source": [
        "df.info()"
      ],
      "metadata": {
        "colab": {
          "base_uri": "https://localhost:8080/"
        },
        "id": "kKzykGmdJIhO",
        "outputId": "136385ad-f479-4aa8-b2b7-c77e628fc384"
      },
      "execution_count": 34,
      "outputs": [
        {
          "output_type": "stream",
          "name": "stdout",
          "text": [
            "<class 'pandas.core.frame.DataFrame'>\n",
            "RangeIndex: 10000 entries, 0 to 9999\n",
            "Data columns (total 14 columns):\n",
            " #   Column  Non-Null Count  Dtype  \n",
            "---  ------  --------------  -----  \n",
            " 0   tau1    10000 non-null  float64\n",
            " 1   tau2    10000 non-null  float64\n",
            " 2   tau3    10000 non-null  float64\n",
            " 3   tau4    10000 non-null  float64\n",
            " 4   p1      10000 non-null  float64\n",
            " 5   p2      10000 non-null  float64\n",
            " 6   p3      10000 non-null  float64\n",
            " 7   p4      10000 non-null  float64\n",
            " 8   g1      10000 non-null  float64\n",
            " 9   g2      10000 non-null  float64\n",
            " 10  g3      10000 non-null  float64\n",
            " 11  g4      10000 non-null  float64\n",
            " 12  stab    10000 non-null  float64\n",
            " 13  stabf   10000 non-null  object \n",
            "dtypes: float64(13), object(1)\n",
            "memory usage: 1.1+ MB\n"
          ]
        }
      ]
    },
    {
      "cell_type": "code",
      "source": [
        "df.describe().T\n"
      ],
      "metadata": {
        "colab": {
          "base_uri": "https://localhost:8080/",
          "height": 457
        },
        "id": "8A6JaWc5LPFc",
        "outputId": "75625006-926e-470c-f0c3-a9a5bddc70e2"
      },
      "execution_count": 35,
      "outputs": [
        {
          "output_type": "execute_result",
          "data": {
            "text/plain": [
              "        count      mean       std       min       25%       50%       75%  \\\n",
              "tau1  10000.0  5.250000  2.742548  0.500793  2.874892  5.250004  7.624690   \n",
              "tau2  10000.0  5.250001  2.742549  0.500141  2.875140  5.249981  7.624893   \n",
              "tau3  10000.0  5.250004  2.742549  0.500788  2.875522  5.249979  7.624948   \n",
              "tau4  10000.0  5.249997  2.742556  0.500473  2.874950  5.249734  7.624838   \n",
              "p1    10000.0  3.750000  0.752160  1.582590  3.218300  3.751025  4.282420   \n",
              "p2    10000.0 -1.250000  0.433035 -1.999891 -1.624901 -1.249966 -0.874977   \n",
              "p3    10000.0 -1.250000  0.433035 -1.999945 -1.625025 -1.249974 -0.875043   \n",
              "p4    10000.0 -1.250000  0.433035 -1.999926 -1.624960 -1.250007 -0.875065   \n",
              "g1    10000.0  0.525000  0.274256  0.050009  0.287521  0.525009  0.762435   \n",
              "g2    10000.0  0.525000  0.274255  0.050053  0.287552  0.525003  0.762490   \n",
              "g3    10000.0  0.525000  0.274255  0.050054  0.287514  0.525015  0.762440   \n",
              "g4    10000.0  0.525000  0.274255  0.050028  0.287494  0.525002  0.762433   \n",
              "stab  10000.0  0.015731  0.036919 -0.080760 -0.015557  0.017142  0.044878   \n",
              "\n",
              "           max  \n",
              "tau1  9.999469  \n",
              "tau2  9.999837  \n",
              "tau3  9.999450  \n",
              "tau4  9.999443  \n",
              "p1    5.864418  \n",
              "p2   -0.500108  \n",
              "p3   -0.500072  \n",
              "p4   -0.500025  \n",
              "g1    0.999937  \n",
              "g2    0.999944  \n",
              "g3    0.999982  \n",
              "g4    0.999930  \n",
              "stab  0.109403  "
            ],
            "text/html": [
              "\n",
              "  <div id=\"df-6e54648d-6db0-4a2d-b3dd-dc87548bbb7e\">\n",
              "    <div class=\"colab-df-container\">\n",
              "      <div>\n",
              "<style scoped>\n",
              "    .dataframe tbody tr th:only-of-type {\n",
              "        vertical-align: middle;\n",
              "    }\n",
              "\n",
              "    .dataframe tbody tr th {\n",
              "        vertical-align: top;\n",
              "    }\n",
              "\n",
              "    .dataframe thead th {\n",
              "        text-align: right;\n",
              "    }\n",
              "</style>\n",
              "<table border=\"1\" class=\"dataframe\">\n",
              "  <thead>\n",
              "    <tr style=\"text-align: right;\">\n",
              "      <th></th>\n",
              "      <th>count</th>\n",
              "      <th>mean</th>\n",
              "      <th>std</th>\n",
              "      <th>min</th>\n",
              "      <th>25%</th>\n",
              "      <th>50%</th>\n",
              "      <th>75%</th>\n",
              "      <th>max</th>\n",
              "    </tr>\n",
              "  </thead>\n",
              "  <tbody>\n",
              "    <tr>\n",
              "      <th>tau1</th>\n",
              "      <td>10000.0</td>\n",
              "      <td>5.250000</td>\n",
              "      <td>2.742548</td>\n",
              "      <td>0.500793</td>\n",
              "      <td>2.874892</td>\n",
              "      <td>5.250004</td>\n",
              "      <td>7.624690</td>\n",
              "      <td>9.999469</td>\n",
              "    </tr>\n",
              "    <tr>\n",
              "      <th>tau2</th>\n",
              "      <td>10000.0</td>\n",
              "      <td>5.250001</td>\n",
              "      <td>2.742549</td>\n",
              "      <td>0.500141</td>\n",
              "      <td>2.875140</td>\n",
              "      <td>5.249981</td>\n",
              "      <td>7.624893</td>\n",
              "      <td>9.999837</td>\n",
              "    </tr>\n",
              "    <tr>\n",
              "      <th>tau3</th>\n",
              "      <td>10000.0</td>\n",
              "      <td>5.250004</td>\n",
              "      <td>2.742549</td>\n",
              "      <td>0.500788</td>\n",
              "      <td>2.875522</td>\n",
              "      <td>5.249979</td>\n",
              "      <td>7.624948</td>\n",
              "      <td>9.999450</td>\n",
              "    </tr>\n",
              "    <tr>\n",
              "      <th>tau4</th>\n",
              "      <td>10000.0</td>\n",
              "      <td>5.249997</td>\n",
              "      <td>2.742556</td>\n",
              "      <td>0.500473</td>\n",
              "      <td>2.874950</td>\n",
              "      <td>5.249734</td>\n",
              "      <td>7.624838</td>\n",
              "      <td>9.999443</td>\n",
              "    </tr>\n",
              "    <tr>\n",
              "      <th>p1</th>\n",
              "      <td>10000.0</td>\n",
              "      <td>3.750000</td>\n",
              "      <td>0.752160</td>\n",
              "      <td>1.582590</td>\n",
              "      <td>3.218300</td>\n",
              "      <td>3.751025</td>\n",
              "      <td>4.282420</td>\n",
              "      <td>5.864418</td>\n",
              "    </tr>\n",
              "    <tr>\n",
              "      <th>p2</th>\n",
              "      <td>10000.0</td>\n",
              "      <td>-1.250000</td>\n",
              "      <td>0.433035</td>\n",
              "      <td>-1.999891</td>\n",
              "      <td>-1.624901</td>\n",
              "      <td>-1.249966</td>\n",
              "      <td>-0.874977</td>\n",
              "      <td>-0.500108</td>\n",
              "    </tr>\n",
              "    <tr>\n",
              "      <th>p3</th>\n",
              "      <td>10000.0</td>\n",
              "      <td>-1.250000</td>\n",
              "      <td>0.433035</td>\n",
              "      <td>-1.999945</td>\n",
              "      <td>-1.625025</td>\n",
              "      <td>-1.249974</td>\n",
              "      <td>-0.875043</td>\n",
              "      <td>-0.500072</td>\n",
              "    </tr>\n",
              "    <tr>\n",
              "      <th>p4</th>\n",
              "      <td>10000.0</td>\n",
              "      <td>-1.250000</td>\n",
              "      <td>0.433035</td>\n",
              "      <td>-1.999926</td>\n",
              "      <td>-1.624960</td>\n",
              "      <td>-1.250007</td>\n",
              "      <td>-0.875065</td>\n",
              "      <td>-0.500025</td>\n",
              "    </tr>\n",
              "    <tr>\n",
              "      <th>g1</th>\n",
              "      <td>10000.0</td>\n",
              "      <td>0.525000</td>\n",
              "      <td>0.274256</td>\n",
              "      <td>0.050009</td>\n",
              "      <td>0.287521</td>\n",
              "      <td>0.525009</td>\n",
              "      <td>0.762435</td>\n",
              "      <td>0.999937</td>\n",
              "    </tr>\n",
              "    <tr>\n",
              "      <th>g2</th>\n",
              "      <td>10000.0</td>\n",
              "      <td>0.525000</td>\n",
              "      <td>0.274255</td>\n",
              "      <td>0.050053</td>\n",
              "      <td>0.287552</td>\n",
              "      <td>0.525003</td>\n",
              "      <td>0.762490</td>\n",
              "      <td>0.999944</td>\n",
              "    </tr>\n",
              "    <tr>\n",
              "      <th>g3</th>\n",
              "      <td>10000.0</td>\n",
              "      <td>0.525000</td>\n",
              "      <td>0.274255</td>\n",
              "      <td>0.050054</td>\n",
              "      <td>0.287514</td>\n",
              "      <td>0.525015</td>\n",
              "      <td>0.762440</td>\n",
              "      <td>0.999982</td>\n",
              "    </tr>\n",
              "    <tr>\n",
              "      <th>g4</th>\n",
              "      <td>10000.0</td>\n",
              "      <td>0.525000</td>\n",
              "      <td>0.274255</td>\n",
              "      <td>0.050028</td>\n",
              "      <td>0.287494</td>\n",
              "      <td>0.525002</td>\n",
              "      <td>0.762433</td>\n",
              "      <td>0.999930</td>\n",
              "    </tr>\n",
              "    <tr>\n",
              "      <th>stab</th>\n",
              "      <td>10000.0</td>\n",
              "      <td>0.015731</td>\n",
              "      <td>0.036919</td>\n",
              "      <td>-0.080760</td>\n",
              "      <td>-0.015557</td>\n",
              "      <td>0.017142</td>\n",
              "      <td>0.044878</td>\n",
              "      <td>0.109403</td>\n",
              "    </tr>\n",
              "  </tbody>\n",
              "</table>\n",
              "</div>\n",
              "      <button class=\"colab-df-convert\" onclick=\"convertToInteractive('df-6e54648d-6db0-4a2d-b3dd-dc87548bbb7e')\"\n",
              "              title=\"Convert this dataframe to an interactive table.\"\n",
              "              style=\"display:none;\">\n",
              "        \n",
              "  <svg xmlns=\"http://www.w3.org/2000/svg\" height=\"24px\"viewBox=\"0 0 24 24\"\n",
              "       width=\"24px\">\n",
              "    <path d=\"M0 0h24v24H0V0z\" fill=\"none\"/>\n",
              "    <path d=\"M18.56 5.44l.94 2.06.94-2.06 2.06-.94-2.06-.94-.94-2.06-.94 2.06-2.06.94zm-11 1L8.5 8.5l.94-2.06 2.06-.94-2.06-.94L8.5 2.5l-.94 2.06-2.06.94zm10 10l.94 2.06.94-2.06 2.06-.94-2.06-.94-.94-2.06-.94 2.06-2.06.94z\"/><path d=\"M17.41 7.96l-1.37-1.37c-.4-.4-.92-.59-1.43-.59-.52 0-1.04.2-1.43.59L10.3 9.45l-7.72 7.72c-.78.78-.78 2.05 0 2.83L4 21.41c.39.39.9.59 1.41.59.51 0 1.02-.2 1.41-.59l7.78-7.78 2.81-2.81c.8-.78.8-2.07 0-2.86zM5.41 20L4 18.59l7.72-7.72 1.47 1.35L5.41 20z\"/>\n",
              "  </svg>\n",
              "      </button>\n",
              "      \n",
              "  <style>\n",
              "    .colab-df-container {\n",
              "      display:flex;\n",
              "      flex-wrap:wrap;\n",
              "      gap: 12px;\n",
              "    }\n",
              "\n",
              "    .colab-df-convert {\n",
              "      background-color: #E8F0FE;\n",
              "      border: none;\n",
              "      border-radius: 50%;\n",
              "      cursor: pointer;\n",
              "      display: none;\n",
              "      fill: #1967D2;\n",
              "      height: 32px;\n",
              "      padding: 0 0 0 0;\n",
              "      width: 32px;\n",
              "    }\n",
              "\n",
              "    .colab-df-convert:hover {\n",
              "      background-color: #E2EBFA;\n",
              "      box-shadow: 0px 1px 2px rgba(60, 64, 67, 0.3), 0px 1px 3px 1px rgba(60, 64, 67, 0.15);\n",
              "      fill: #174EA6;\n",
              "    }\n",
              "\n",
              "    [theme=dark] .colab-df-convert {\n",
              "      background-color: #3B4455;\n",
              "      fill: #D2E3FC;\n",
              "    }\n",
              "\n",
              "    [theme=dark] .colab-df-convert:hover {\n",
              "      background-color: #434B5C;\n",
              "      box-shadow: 0px 1px 3px 1px rgba(0, 0, 0, 0.15);\n",
              "      filter: drop-shadow(0px 1px 2px rgba(0, 0, 0, 0.3));\n",
              "      fill: #FFFFFF;\n",
              "    }\n",
              "  </style>\n",
              "\n",
              "      <script>\n",
              "        const buttonEl =\n",
              "          document.querySelector('#df-6e54648d-6db0-4a2d-b3dd-dc87548bbb7e button.colab-df-convert');\n",
              "        buttonEl.style.display =\n",
              "          google.colab.kernel.accessAllowed ? 'block' : 'none';\n",
              "\n",
              "        async function convertToInteractive(key) {\n",
              "          const element = document.querySelector('#df-6e54648d-6db0-4a2d-b3dd-dc87548bbb7e');\n",
              "          const dataTable =\n",
              "            await google.colab.kernel.invokeFunction('convertToInteractive',\n",
              "                                                     [key], {});\n",
              "          if (!dataTable) return;\n",
              "\n",
              "          const docLinkHtml = 'Like what you see? Visit the ' +\n",
              "            '<a target=\"_blank\" href=https://colab.research.google.com/notebooks/data_table.ipynb>data table notebook</a>'\n",
              "            + ' to learn more about interactive tables.';\n",
              "          element.innerHTML = '';\n",
              "          dataTable['output_type'] = 'display_data';\n",
              "          await google.colab.output.renderOutput(dataTable, element);\n",
              "          const docLink = document.createElement('div');\n",
              "          docLink.innerHTML = docLinkHtml;\n",
              "          element.appendChild(docLink);\n",
              "        }\n",
              "      </script>\n",
              "    </div>\n",
              "  </div>\n",
              "  "
            ]
          },
          "metadata": {},
          "execution_count": 35
        }
      ]
    },
    {
      "cell_type": "code",
      "source": [
        "#sns.pairplot(df)"
      ],
      "metadata": {
        "id": "9gGinh-1LUWf"
      },
      "execution_count": 36,
      "outputs": []
    },
    {
      "cell_type": "code",
      "source": [
        "df.drop('stab', axis=1, inplace=True)"
      ],
      "metadata": {
        "id": "7DsMGJ3DNBJ8"
      },
      "execution_count": 37,
      "outputs": []
    },
    {
      "cell_type": "code",
      "source": [
        "X= df.copy()\n",
        "y=X.pop('stabf')"
      ],
      "metadata": {
        "id": "rx8loHK8NRnu"
      },
      "execution_count": 38,
      "outputs": []
    },
    {
      "cell_type": "code",
      "source": [
        "#X.head()"
      ],
      "metadata": {
        "id": "Zl6Ydz8fNjRx"
      },
      "execution_count": 39,
      "outputs": []
    },
    {
      "cell_type": "code",
      "source": [
        "#split the data into training and testing sets\n",
        "from sklearn.model_selection import train_test_split\n",
        "x_train, x_test, y_train, y_test = train_test_split(X, y, test_size= 0.2, random_state= 1) "
      ],
      "metadata": {
        "id": "GkNVqobcMo4z"
      },
      "execution_count": 40,
      "outputs": []
    },
    {
      "cell_type": "code",
      "source": [
        "col = x_train.columns\n",
        "col"
      ],
      "metadata": {
        "colab": {
          "base_uri": "https://localhost:8080/"
        },
        "id": "sMdY3NPUOHE_",
        "outputId": "f56dfee6-dfc9-4e78-8cfb-79873eb300e3"
      },
      "execution_count": 41,
      "outputs": [
        {
          "output_type": "execute_result",
          "data": {
            "text/plain": [
              "Index(['tau1', 'tau2', 'tau3', 'tau4', 'p1', 'p2', 'p3', 'p4', 'g1', 'g2',\n",
              "       'g3', 'g4'],\n",
              "      dtype='object')"
            ]
          },
          "metadata": {},
          "execution_count": 41
        }
      ]
    },
    {
      "cell_type": "code",
      "source": [
        "from sklearn.preprocessing import StandardScaler\n",
        "scaler = StandardScaler()\n",
        "X_train = pd.DataFrame (scaler.fit_transform(x_train), columns=col)\n",
        "X_test = pd.DataFrame ( scaler.transform(x_test), columns=col)"
      ],
      "metadata": {
        "id": "MNbBWSQ9NssJ"
      },
      "execution_count": 42,
      "outputs": []
    },
    {
      "cell_type": "code",
      "source": [
        "X_train.head(2)"
      ],
      "metadata": {
        "colab": {
          "base_uri": "https://localhost:8080/",
          "height": 112
        },
        "id": "9DCd5ACdO8sU",
        "outputId": "9045669e-1707-4193-a920-101680e4716a"
      },
      "execution_count": 43,
      "outputs": [
        {
          "output_type": "execute_result",
          "data": {
            "text/plain": [
              "       tau1      tau2      tau3      tau4        p1        p2        p3  \\\n",
              "0  0.367327 -0.986042  0.650447  1.547527 -0.291490  0.061535  1.293862   \n",
              "1 -0.064659  0.089437  1.035079 -1.641494  0.619865 -0.067235 -1.502925   \n",
              "\n",
              "         p4        g1        g2        g3        g4  \n",
              "0 -0.845074  0.160918  0.339859  0.585568  0.492239  \n",
              "1  0.486613 -0.293143 -1.558488  1.429649 -1.443521  "
            ],
            "text/html": [
              "\n",
              "  <div id=\"df-215721c0-81af-4a5b-b890-7a5529f9c842\">\n",
              "    <div class=\"colab-df-container\">\n",
              "      <div>\n",
              "<style scoped>\n",
              "    .dataframe tbody tr th:only-of-type {\n",
              "        vertical-align: middle;\n",
              "    }\n",
              "\n",
              "    .dataframe tbody tr th {\n",
              "        vertical-align: top;\n",
              "    }\n",
              "\n",
              "    .dataframe thead th {\n",
              "        text-align: right;\n",
              "    }\n",
              "</style>\n",
              "<table border=\"1\" class=\"dataframe\">\n",
              "  <thead>\n",
              "    <tr style=\"text-align: right;\">\n",
              "      <th></th>\n",
              "      <th>tau1</th>\n",
              "      <th>tau2</th>\n",
              "      <th>tau3</th>\n",
              "      <th>tau4</th>\n",
              "      <th>p1</th>\n",
              "      <th>p2</th>\n",
              "      <th>p3</th>\n",
              "      <th>p4</th>\n",
              "      <th>g1</th>\n",
              "      <th>g2</th>\n",
              "      <th>g3</th>\n",
              "      <th>g4</th>\n",
              "    </tr>\n",
              "  </thead>\n",
              "  <tbody>\n",
              "    <tr>\n",
              "      <th>0</th>\n",
              "      <td>0.367327</td>\n",
              "      <td>-0.986042</td>\n",
              "      <td>0.650447</td>\n",
              "      <td>1.547527</td>\n",
              "      <td>-0.291490</td>\n",
              "      <td>0.061535</td>\n",
              "      <td>1.293862</td>\n",
              "      <td>-0.845074</td>\n",
              "      <td>0.160918</td>\n",
              "      <td>0.339859</td>\n",
              "      <td>0.585568</td>\n",
              "      <td>0.492239</td>\n",
              "    </tr>\n",
              "    <tr>\n",
              "      <th>1</th>\n",
              "      <td>-0.064659</td>\n",
              "      <td>0.089437</td>\n",
              "      <td>1.035079</td>\n",
              "      <td>-1.641494</td>\n",
              "      <td>0.619865</td>\n",
              "      <td>-0.067235</td>\n",
              "      <td>-1.502925</td>\n",
              "      <td>0.486613</td>\n",
              "      <td>-0.293143</td>\n",
              "      <td>-1.558488</td>\n",
              "      <td>1.429649</td>\n",
              "      <td>-1.443521</td>\n",
              "    </tr>\n",
              "  </tbody>\n",
              "</table>\n",
              "</div>\n",
              "      <button class=\"colab-df-convert\" onclick=\"convertToInteractive('df-215721c0-81af-4a5b-b890-7a5529f9c842')\"\n",
              "              title=\"Convert this dataframe to an interactive table.\"\n",
              "              style=\"display:none;\">\n",
              "        \n",
              "  <svg xmlns=\"http://www.w3.org/2000/svg\" height=\"24px\"viewBox=\"0 0 24 24\"\n",
              "       width=\"24px\">\n",
              "    <path d=\"M0 0h24v24H0V0z\" fill=\"none\"/>\n",
              "    <path d=\"M18.56 5.44l.94 2.06.94-2.06 2.06-.94-2.06-.94-.94-2.06-.94 2.06-2.06.94zm-11 1L8.5 8.5l.94-2.06 2.06-.94-2.06-.94L8.5 2.5l-.94 2.06-2.06.94zm10 10l.94 2.06.94-2.06 2.06-.94-2.06-.94-.94-2.06-.94 2.06-2.06.94z\"/><path d=\"M17.41 7.96l-1.37-1.37c-.4-.4-.92-.59-1.43-.59-.52 0-1.04.2-1.43.59L10.3 9.45l-7.72 7.72c-.78.78-.78 2.05 0 2.83L4 21.41c.39.39.9.59 1.41.59.51 0 1.02-.2 1.41-.59l7.78-7.78 2.81-2.81c.8-.78.8-2.07 0-2.86zM5.41 20L4 18.59l7.72-7.72 1.47 1.35L5.41 20z\"/>\n",
              "  </svg>\n",
              "      </button>\n",
              "      \n",
              "  <style>\n",
              "    .colab-df-container {\n",
              "      display:flex;\n",
              "      flex-wrap:wrap;\n",
              "      gap: 12px;\n",
              "    }\n",
              "\n",
              "    .colab-df-convert {\n",
              "      background-color: #E8F0FE;\n",
              "      border: none;\n",
              "      border-radius: 50%;\n",
              "      cursor: pointer;\n",
              "      display: none;\n",
              "      fill: #1967D2;\n",
              "      height: 32px;\n",
              "      padding: 0 0 0 0;\n",
              "      width: 32px;\n",
              "    }\n",
              "\n",
              "    .colab-df-convert:hover {\n",
              "      background-color: #E2EBFA;\n",
              "      box-shadow: 0px 1px 2px rgba(60, 64, 67, 0.3), 0px 1px 3px 1px rgba(60, 64, 67, 0.15);\n",
              "      fill: #174EA6;\n",
              "    }\n",
              "\n",
              "    [theme=dark] .colab-df-convert {\n",
              "      background-color: #3B4455;\n",
              "      fill: #D2E3FC;\n",
              "    }\n",
              "\n",
              "    [theme=dark] .colab-df-convert:hover {\n",
              "      background-color: #434B5C;\n",
              "      box-shadow: 0px 1px 3px 1px rgba(0, 0, 0, 0.15);\n",
              "      filter: drop-shadow(0px 1px 2px rgba(0, 0, 0, 0.3));\n",
              "      fill: #FFFFFF;\n",
              "    }\n",
              "  </style>\n",
              "\n",
              "      <script>\n",
              "        const buttonEl =\n",
              "          document.querySelector('#df-215721c0-81af-4a5b-b890-7a5529f9c842 button.colab-df-convert');\n",
              "        buttonEl.style.display =\n",
              "          google.colab.kernel.accessAllowed ? 'block' : 'none';\n",
              "\n",
              "        async function convertToInteractive(key) {\n",
              "          const element = document.querySelector('#df-215721c0-81af-4a5b-b890-7a5529f9c842');\n",
              "          const dataTable =\n",
              "            await google.colab.kernel.invokeFunction('convertToInteractive',\n",
              "                                                     [key], {});\n",
              "          if (!dataTable) return;\n",
              "\n",
              "          const docLinkHtml = 'Like what you see? Visit the ' +\n",
              "            '<a target=\"_blank\" href=https://colab.research.google.com/notebooks/data_table.ipynb>data table notebook</a>'\n",
              "            + ' to learn more about interactive tables.';\n",
              "          element.innerHTML = '';\n",
              "          dataTable['output_type'] = 'display_data';\n",
              "          await google.colab.output.renderOutput(dataTable, element);\n",
              "          const docLink = document.createElement('div');\n",
              "          docLink.innerHTML = docLinkHtml;\n",
              "          element.appendChild(docLink);\n",
              "        }\n",
              "      </script>\n",
              "    </div>\n",
              "  </div>\n",
              "  "
            ]
          },
          "metadata": {},
          "execution_count": 43
        }
      ]
    },
    {
      "cell_type": "code",
      "source": [
        "# check xgboost version\n",
        "import xgboost\n",
        "print(xgboost.__version__)"
      ],
      "metadata": {
        "colab": {
          "base_uri": "https://localhost:8080/"
        },
        "id": "nDaCCGN-U36-",
        "outputId": "390638e4-d4a0-4af4-9ddf-db1b41acbed3"
      },
      "execution_count": 44,
      "outputs": [
        {
          "output_type": "stream",
          "name": "stdout",
          "text": [
            "0.90\n"
          ]
        }
      ]
    },
    {
      "cell_type": "code",
      "source": [
        "import lightgbm as lgb"
      ],
      "metadata": {
        "id": "8_2iRz3zVwZz"
      },
      "execution_count": 45,
      "outputs": []
    },
    {
      "cell_type": "code",
      "source": [
        "from sklearn.ensemble import RandomForestClassifier\n",
        "from sklearn.ensemble import ExtraTreesClassifier\n",
        "from sklearn.ensemble import GradientBoostingClassifier\n",
        "from xgboost import XGBClassifier\n",
        "# Similarly LGBMRegressor can also be imported for a regression model.\n",
        "from lightgbm import LGBMClassifier\n",
        "rf = RandomForestClassifier()\n",
        "etc = ExtraTreesClassifier()\n",
        "gb = GradientBoostingClassifier()\n",
        "xgb = XGBClassifier()\n",
        "lgb =  LGBMClassifier()"
      ],
      "metadata": {
        "id": "ryDk7uYLR0Ha"
      },
      "execution_count": 46,
      "outputs": []
    },
    {
      "cell_type": "code",
      "source": [
        "def modelbuilder(model, X_train,X_test,ytrain, ytest):\n",
        "    model.fit(X_train, y_train)\n",
        "    ypred = model.predict(X_test)\n",
        "    acc = model.score(X_test, y_test)\n",
        "\n",
        "    return acc"
      ],
      "metadata": {
        "id": "NRVEjDNLPBjn"
      },
      "execution_count": 47,
      "outputs": []
    },
    {
      "cell_type": "code",
      "source": [
        "modelbuilder(rf, X_train, X_test, y_train,y_test )"
      ],
      "metadata": {
        "id": "M48E6tjTRqUU",
        "colab": {
          "base_uri": "https://localhost:8080/"
        },
        "outputId": "a12f86ef-53f0-4736-8404-505ae04fd785"
      },
      "execution_count": 48,
      "outputs": [
        {
          "output_type": "execute_result",
          "data": {
            "text/plain": [
              "0.9225"
            ]
          },
          "metadata": {},
          "execution_count": 48
        }
      ]
    },
    {
      "cell_type": "code",
      "source": [
        "modelbuilder(etc, X_train, X_test, y_train,y_test )"
      ],
      "metadata": {
        "id": "l4B7DXAKSI63",
        "colab": {
          "base_uri": "https://localhost:8080/"
        },
        "outputId": "c4dea5b1-9edc-4b5d-b9fb-613cd80546de"
      },
      "execution_count": 49,
      "outputs": [
        {
          "output_type": "execute_result",
          "data": {
            "text/plain": [
              "0.9275"
            ]
          },
          "metadata": {},
          "execution_count": 49
        }
      ]
    },
    {
      "cell_type": "code",
      "source": [
        "modelbuilder(gb, X_train, X_test, y_train,y_test )"
      ],
      "metadata": {
        "id": "CpviZpWuS4Qz",
        "colab": {
          "base_uri": "https://localhost:8080/"
        },
        "outputId": "073f0e99-dc86-4908-b88b-7d46879795c9"
      },
      "execution_count": 50,
      "outputs": [
        {
          "output_type": "execute_result",
          "data": {
            "text/plain": [
              "0.919"
            ]
          },
          "metadata": {},
          "execution_count": 50
        }
      ]
    },
    {
      "cell_type": "code",
      "source": [
        "modelbuilder(xgb, X_train, X_test, y_train,y_test )"
      ],
      "metadata": {
        "id": "g-krvDgwT7rN",
        "colab": {
          "base_uri": "https://localhost:8080/"
        },
        "outputId": "119bb072-2d49-46ce-a33f-cca59dbb7c24"
      },
      "execution_count": 51,
      "outputs": [
        {
          "output_type": "execute_result",
          "data": {
            "text/plain": [
              "0.9195"
            ]
          },
          "metadata": {},
          "execution_count": 51
        }
      ]
    },
    {
      "cell_type": "code",
      "source": [
        "modelbuilder(lgb, X_train, X_test, y_train,y_test )"
      ],
      "metadata": {
        "id": "a6XuN-xTVSuN",
        "colab": {
          "base_uri": "https://localhost:8080/"
        },
        "outputId": "d872a4a9-9358-46e1-cee9-66d10e14ca21"
      },
      "execution_count": 52,
      "outputs": [
        {
          "output_type": "execute_result",
          "data": {
            "text/plain": [
              "0.9375"
            ]
          },
          "metadata": {},
          "execution_count": 52
        }
      ]
    },
    {
      "cell_type": "code",
      "source": [
        "n_estimators = [100,300,500,1000] # number of trees in the random forest\n",
        "max_features = ['auto', 'log2',None] # number of features in consideration at every split\n",
        "min_samples_split = [2, 5, 7] # minimum sample number to split a node\n",
        "min_samples_leaf = [4, 6, 8] # minimum sample number that can be stored in a leaf node\n",
        "\n",
        "random_grid = {'n_estimators': n_estimators,\n",
        "\n",
        "'max_features': max_features,\n",
        "\n",
        "'min_samples_split': min_samples_split,\n",
        "\n",
        "'min_samples_leaf': min_samples_leaf,\n",
        "\n",
        "}"
      ],
      "metadata": {
        "id": "aPXCft53V8ev"
      },
      "execution_count": 53,
      "outputs": []
    },
    {
      "cell_type": "code",
      "source": [
        "from sklearn.model_selection import RandomizedSearchCV\n",
        "etc_best = RandomizedSearchCV(estimator = etc,param_distributions = random_grid,\n",
        "               n_iter = 10, cv = 5, verbose=1, random_state=1, n_jobs = -1)"
      ],
      "metadata": {
        "id": "MZpKk6RbC0Dt"
      },
      "execution_count": 54,
      "outputs": []
    },
    {
      "cell_type": "code",
      "source": [
        "etc_best.fit(X_train, y_train)"
      ],
      "metadata": {
        "colab": {
          "base_uri": "https://localhost:8080/"
        },
        "id": "NeRjykfpDH-b",
        "outputId": "c9645177-cf89-4f73-f200-ae92fed425d4"
      },
      "execution_count": 55,
      "outputs": [
        {
          "output_type": "stream",
          "name": "stdout",
          "text": [
            "Fitting 5 folds for each of 10 candidates, totalling 50 fits\n"
          ]
        },
        {
          "output_type": "execute_result",
          "data": {
            "text/plain": [
              "RandomizedSearchCV(cv=5, estimator=ExtraTreesClassifier(), n_jobs=-1,\n",
              "                   param_distributions={'max_features': ['auto', 'log2', None],\n",
              "                                        'min_samples_leaf': [4, 6, 8],\n",
              "                                        'min_samples_split': [2, 5, 7],\n",
              "                                        'n_estimators': [100, 300, 500, 1000]},\n",
              "                   random_state=1, verbose=1)"
            ]
          },
          "metadata": {},
          "execution_count": 55
        }
      ]
    },
    {
      "cell_type": "code",
      "source": [
        "print ('Random grid: ', random_grid, '\\n')\n",
        "# print the best parameters\n",
        "print ('Best Parameters: ', etc_best.best_params_, ' \\n')"
      ],
      "metadata": {
        "colab": {
          "base_uri": "https://localhost:8080/"
        },
        "id": "xdyOKTnFDSAo",
        "outputId": "fdbcff88-d79e-4a99-8900-adb942f1bb3e"
      },
      "execution_count": 57,
      "outputs": [
        {
          "output_type": "stream",
          "name": "stdout",
          "text": [
            "Random grid:  {'n_estimators': [100, 300, 500, 1000], 'max_features': ['auto', 'log2', None], 'min_samples_split': [2, 5, 7], 'min_samples_leaf': [4, 6, 8]} \n",
            "\n",
            "Best Parameters:  {'n_estimators': 500, 'min_samples_split': 5, 'min_samples_leaf': 6, 'max_features': None}  \n",
            "\n"
          ]
        }
      ]
    },
    {
      "cell_type": "code",
      "source": [
        "etc_new = ExtraTreesClassifier(n_estimators= 500, min_samples_split=5, min_samples_leaf= 6, max_features= None )\n",
        "etc_new.fit(X_train, y_train)\n",
        "acc= etc_new.score(X_test, y_test)\n",
        "acc"
      ],
      "metadata": {
        "colab": {
          "base_uri": "https://localhost:8080/"
        },
        "id": "0HZ1jJJaDt_r",
        "outputId": "f43f2a26-04c1-4141-ee6e-06f9daf59ab1"
      },
      "execution_count": 60,
      "outputs": [
        {
          "output_type": "execute_result",
          "data": {
            "text/plain": [
              "0.9295"
            ]
          },
          "metadata": {},
          "execution_count": 60
        }
      ]
    },
    {
      "cell_type": "code",
      "source": [
        "feature_importance = etc_new.feature_importances_\n",
        "feature_importance"
      ],
      "metadata": {
        "colab": {
          "base_uri": "https://localhost:8080/"
        },
        "id": "qsGnF-6nEr8N",
        "outputId": "c2d910ba-eefb-4b85-8692-509df388dcc7"
      },
      "execution_count": 62,
      "outputs": [
        {
          "output_type": "execute_result",
          "data": {
            "text/plain": [
              "array([0.13550765, 0.13864673, 0.13219121, 0.13356725, 0.00542702,\n",
              "       0.00730833, 0.00721904, 0.00698146, 0.10301788, 0.10877278,\n",
              "       0.11241222, 0.10894843])"
            ]
          },
          "metadata": {},
          "execution_count": 62
        }
      ]
    },
    {
      "cell_type": "code",
      "source": [
        "feature_importance_normalized = np.std([tree.feature_importances_ for tree in \n",
        "                                        etc_new.estimators_],\n",
        "                                        axis = 0)"
      ],
      "metadata": {
        "id": "CBVGkjBnFr1X"
      },
      "execution_count": 63,
      "outputs": []
    },
    {
      "cell_type": "code",
      "source": [
        "# Plotting a Bar Graph to compare the models\n",
        "plt.bar(X.columns, feature_importance_normalized)\n",
        "plt.xlabel('Feature Labels')\n",
        "plt.ylabel('Feature Importances')\n",
        "plt.title('Comparison of different Feature Importances')\n",
        "plt.show()"
      ],
      "metadata": {
        "colab": {
          "base_uri": "https://localhost:8080/",
          "height": 295
        },
        "id": "nNHG7kENGFFs",
        "outputId": "cb0be0c9-7a61-42eb-99f9-e0545e82327d"
      },
      "execution_count": 64,
      "outputs": [
        {
          "output_type": "display_data",
          "data": {
            "text/plain": [
              "<Figure size 432x288 with 1 Axes>"
            ],
            "image/png": "[encoded data removed]"
          },
          "metadata": {
            "needs_background": "light"
          }
        }
      ]
    },
    {
      "cell_type": "code",
      "source": [],
      "metadata": {
        "id": "rwDCv8HNGKL7"
      },
      "execution_count": null,
      "outputs": []
    }
  ]
}